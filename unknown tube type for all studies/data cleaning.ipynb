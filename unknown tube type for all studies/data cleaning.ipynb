{
 "cells": [
  {
   "attachments": {},
   "cell_type": "markdown",
   "metadata": {},
   "source": [
    "# Data Cleaning: Incorrect Tube Names"
   ]
  },
  {
   "attachments": {},
   "cell_type": "markdown",
   "metadata": {},
   "source": [
    "This script automatically cleans the names of several tube names. The script takes in a spreadsheet as an input that has at least the following columns:\n",
    "* \"Study Number\"\n",
    "* \"ISISS Registration Number\"\n",
    "* \"ITN Barcode\"\n",
    "* \"Tube Type\""
   ]
  },
  {
   "attachments": {},
   "cell_type": "markdown",
   "metadata": {},
   "source": [
    "Start by importing libraries. I will import pandas to read and manage data extracted from Excel spreadsheets. Datetime will be used to generate the date this script is run to keep track of data change requests."
   ]
  },
  {
   "cell_type": "code",
   "execution_count": 1,
   "metadata": {},
   "outputs": [],
   "source": [
    "import pandas as pd\n",
    "from datetime import datetime"
   ]
  },
  {
   "attachments": {},
   "cell_type": "markdown",
   "metadata": {},
   "source": [
    "I will start with getting today's date. I need to get the date in a string format because data change requests need this information in the first column:"
   ]
  },
  {
   "cell_type": "code",
   "execution_count": 2,
   "metadata": {},
   "outputs": [
    {
     "name": "stdout",
     "output_type": "stream",
     "text": [
      "7.11.23\n"
     ]
    }
   ],
   "source": [
    "today=datetime.now() # Gets today's date\n",
    "year=str(today.year) # Get the year as a string\n",
    "year=year[-2:]  # Get the last 2 digits (2023 -> 23)\n",
    "date=str(today.month)+'.'+str(today.day)+'.'+str(year) # Get today's date in MM-DD-YY format\n",
    "\n",
    "print(date)"
   ]
  },
  {
   "attachments": {},
   "cell_type": "markdown",
   "metadata": {},
   "source": [
    "Have pandas read the spreadsheet:"
   ]
  },
  {
   "cell_type": "code",
   "execution_count": 4,
   "metadata": {},
   "outputs": [
    {
     "name": "stdout",
     "output_type": "stream",
     "text": [
      "   Study Number  ISISS Registration Number  ITN Barcode  \\\n",
      "0      ITNXXXYY                        101        10001   \n",
      "1      ITNXXXYY                        102        10002   \n",
      "2      ITNXXXYY                        103        10003   \n",
      "3      ITNXXXYY                        104        10004   \n",
      "4      ITNXXXYY                        105        10005   \n",
      "5      ITNXXXYY                        106        10006   \n",
      "6      ITNXXXYY                        107        10007   \n",
      "7      ITNXXXYY                        108        10008   \n",
      "8      ITNXXXYY                        109        10009   \n",
      "9      ITNXXXYY                        110        10010   \n",
      "10     ITNXXXYY                        111        10011   \n",
      "11     ITNXXXYY                        112        10012   \n",
      "12     ITNXXXYY                        113        10013   \n",
      "13     ITNXXXYY                        114        10014   \n",
      "14     ITNXXXYY                        115        10015   \n",
      "15     ITNXXXYY                        116        10016   \n",
      "16     ITNXXXYY                        117        10017   \n",
      "17     ITNXXXYY                        118        10018   \n",
      "18     ITNXXXYY                        119        10019   \n",
      "19     ITNXXXYY                        120        10020   \n",
      "20     ITNXXXYY                        121        10021   \n",
      "21     ITNXXXYY                        122        10022   \n",
      "22     ITNXXXYY                        123        10023   \n",
      "23     ITNXXXYY                        124        10024   \n",
      "24     ITNXXXYY                        125        10025   \n",
      "25     ITNXXXYY                        126        10026   \n",
      "26     ITNXXXYY                        127        10027   \n",
      "27     ITNXXXYY                        128        10028   \n",
      "28     ITNXXXYY                        129        10029   \n",
      "29     ITNXXXYY                        130        10030   \n",
      "30     ITNXXXYY                        131        10031   \n",
      "31     ITNXXXYY                        132        10032   \n",
      "32     ITNXXXYY                        133        10033   \n",
      "33     ITNXXXYY                        134        10034   \n",
      "34     ITNXXXYY                        135        10035   \n",
      "35     ITNXXXYY                        136        10036   \n",
      "36     ITNXXXYY                        137        10037   \n",
      "37     ITNXXXYY                        138        10038   \n",
      "38     ITNXXXYY                        139        10039   \n",
      "\n",
      "                  Tube Type  \n",
      "0          0.5  ML CRYOVIAL  \n",
      "1            0.5mL Cryovial  \n",
      "2           0.5 ML CRYOVIAL  \n",
      "3           1.2 mL Cryovial  \n",
      "4          01.2 ML CRYOVIAL  \n",
      "5            1.5ml cryovial  \n",
      "6          01.5 ML CRYOVIAL  \n",
      "7            1.8ml cryovial  \n",
      "8           01.8ml cryovial  \n",
      "9           1.8 mL cryovial  \n",
      "10                    1.8mL  \n",
      "11           1.8mL Cryovial  \n",
      "12      4'' 1.8 ml cryovial  \n",
      "13          1.8 mL cryovial  \n",
      "14         01.8 ML CRYOVIAL  \n",
      "15                  idk lol  \n",
      "16         02.0 ML CRYOVIAL  \n",
      "17          02.0mL Cryovial  \n",
      "18            02mL Cryovial  \n",
      "19             2ml cryovial  \n",
      "20             2mL Cryovial  \n",
      "21           02 ML CRYOVIAL  \n",
      "22          2.5 ml cryovial  \n",
      "23         02.5 ML CRYOVIAL  \n",
      "24              03mL Tempus  \n",
      "25              03mL Tempus  \n",
      "26             03 ML TEMPUS  \n",
      "27                 5ml EDTA  \n",
      "28            05 ML K3 EDTA  \n",
      "29      15 ml cryovial tube  \n",
      "30            15ML CRYOVIAL  \n",
      "31           15 ML CRYOVIAL  \n",
      "32            22 oz Commode  \n",
      "33  22 OZ COMMODE CONTAINER  \n",
      "34            35 ml Storage  \n",
      "35  35 ml Storage Container  \n",
      "36     35 ML STORAGE BOTTLE  \n",
      "37           RNA DNA Shield  \n",
      "38           DNA RNA Shield  \n"
     ]
    }
   ],
   "source": [
    "flag=pd.read_excel(\"dataDemo.xlsx\")\n",
    "\n",
    "print(flag)"
   ]
  },
  {
   "attachments": {},
   "cell_type": "markdown",
   "metadata": {},
   "source": [
    "Get a list of columns from the spreadsheet. Insert a new column called \"New Tube Type\" after the pre-existing \"Tube Type\" column:"
   ]
  },
  {
   "cell_type": "code",
   "execution_count": 6,
   "metadata": {},
   "outputs": [],
   "source": [
    "column_list=list(flag.columns)\n",
    "flag.insert(loc=(column_list.index(\"Tube Type\")+1),column=\"New Tube Type\",value=None)"
   ]
  },
  {
   "attachments": {},
   "cell_type": "markdown",
   "metadata": {},
   "source": [
    "Create a function that maps incorrect tube names to correct ones. I am not using a dictionary since there are many incorrect tube names for one correct tube name. Furthermore, I believe that it is easier to edit the function. A new user would have an easier time understanding what the function does:"
   ]
  },
  {
   "cell_type": "code",
   "execution_count": 7,
   "metadata": {},
   "outputs": [],
   "source": [
    "def cleaning(old):\n",
    "    if old in ['0.5  ML CRYOVIAL','0.5mL Cryovial']: # If the current tube name is one of these...\n",
    "        return '0.5 ML CRYOVIAL' # Return this name\n",
    "    elif (old == '1.2 mL Cryovial'): # Otherwise, if the current tube name is this...\n",
    "        return '01.2 ML CRYOVIAL' # Return this name\n",
    "    elif (old == '1.5ml cryovial'):\n",
    "        return '01.5 ML CRYOVIAL'\n",
    "    elif old in ['1.8ml cryovial','01.8ml cryovial','1.8 mL cryovial','1.8mL','1.8mL Cryovial',\"4'' 1.8 ml cryovial\",\"1.8 mL cryovial\"]:\n",
    "        return '01.8 ML CRYOVIAL'\n",
    "    elif old in ['02.0 ML CRYOVIAL','02.0mL Cryovial','02mL Cryovial','2ml cryovial',\"2mL Cryovial\"]:\n",
    "        return '02 ML CRYOVIAL'\n",
    "    elif old == '2.5 ml cryovial':\n",
    "        return '02.5 ML CRYOVIAL'\n",
    "    elif old in ['03mL Tempus',\"03mL Tempus\"]:\n",
    "        return '03 ML TEMPUS'\n",
    "    elif old == '5ml EDTA':\n",
    "        return '05 ML K3 EDTA'\n",
    "    elif old in ['15 ml cryovial tube',\"15ML CRYOVIAL\"]:\n",
    "        return '15 ML CRYOVIAL'\n",
    "    elif old == '22 oz Commode':\n",
    "        return '22 OZ COMMODE CONTAINER'\n",
    "    elif old in ['35 ml Storage','35 ml Storage Container']:\n",
    "        return '35 ML STORAGE BOTTLE'\n",
    "    elif old == 'RNA DNA Shield':\n",
    "        return 'DNA RNA Shield'\n",
    "    else:\n",
    "        return None"
   ]
  },
  {
   "attachments": {},
   "cell_type": "markdown",
   "metadata": {},
   "source": [
    "Apply the function:"
   ]
  },
  {
   "cell_type": "code",
   "execution_count": 8,
   "metadata": {},
   "outputs": [
    {
     "name": "stdout",
     "output_type": "stream",
     "text": [
      "   Study Number  ISISS Registration Number  ITN Barcode  \\\n",
      "0      ITNXXXYY                        101        10001   \n",
      "1      ITNXXXYY                        102        10002   \n",
      "2      ITNXXXYY                        103        10003   \n",
      "3      ITNXXXYY                        104        10004   \n",
      "4      ITNXXXYY                        105        10005   \n",
      "5      ITNXXXYY                        106        10006   \n",
      "6      ITNXXXYY                        107        10007   \n",
      "7      ITNXXXYY                        108        10008   \n",
      "8      ITNXXXYY                        109        10009   \n",
      "9      ITNXXXYY                        110        10010   \n",
      "10     ITNXXXYY                        111        10011   \n",
      "11     ITNXXXYY                        112        10012   \n",
      "12     ITNXXXYY                        113        10013   \n",
      "13     ITNXXXYY                        114        10014   \n",
      "14     ITNXXXYY                        115        10015   \n",
      "15     ITNXXXYY                        116        10016   \n",
      "16     ITNXXXYY                        117        10017   \n",
      "17     ITNXXXYY                        118        10018   \n",
      "18     ITNXXXYY                        119        10019   \n",
      "19     ITNXXXYY                        120        10020   \n",
      "20     ITNXXXYY                        121        10021   \n",
      "21     ITNXXXYY                        122        10022   \n",
      "22     ITNXXXYY                        123        10023   \n",
      "23     ITNXXXYY                        124        10024   \n",
      "24     ITNXXXYY                        125        10025   \n",
      "25     ITNXXXYY                        126        10026   \n",
      "26     ITNXXXYY                        127        10027   \n",
      "27     ITNXXXYY                        128        10028   \n",
      "28     ITNXXXYY                        129        10029   \n",
      "29     ITNXXXYY                        130        10030   \n",
      "30     ITNXXXYY                        131        10031   \n",
      "31     ITNXXXYY                        132        10032   \n",
      "32     ITNXXXYY                        133        10033   \n",
      "33     ITNXXXYY                        134        10034   \n",
      "34     ITNXXXYY                        135        10035   \n",
      "35     ITNXXXYY                        136        10036   \n",
      "36     ITNXXXYY                        137        10037   \n",
      "37     ITNXXXYY                        138        10038   \n",
      "38     ITNXXXYY                        139        10039   \n",
      "\n",
      "                  Tube Type            New Tube Type  \n",
      "0          0.5  ML CRYOVIAL                     None  \n",
      "1            0.5mL Cryovial          0.5 ML CRYOVIAL  \n",
      "2           0.5 ML CRYOVIAL                     None  \n",
      "3           1.2 mL Cryovial         01.2 ML CRYOVIAL  \n",
      "4          01.2 ML CRYOVIAL                     None  \n",
      "5            1.5ml cryovial         01.5 ML CRYOVIAL  \n",
      "6          01.5 ML CRYOVIAL                     None  \n",
      "7            1.8ml cryovial         01.8 ML CRYOVIAL  \n",
      "8           01.8ml cryovial         01.8 ML CRYOVIAL  \n",
      "9           1.8 mL cryovial         01.8 ML CRYOVIAL  \n",
      "10                    1.8mL         01.8 ML CRYOVIAL  \n",
      "11           1.8mL Cryovial         01.8 ML CRYOVIAL  \n",
      "12      4'' 1.8 ml cryovial         01.8 ML CRYOVIAL  \n",
      "13          1.8 mL cryovial         01.8 ML CRYOVIAL  \n",
      "14         01.8 ML CRYOVIAL                     None  \n",
      "15                  idk lol                     None  \n",
      "16         02.0 ML CRYOVIAL           02 ML CRYOVIAL  \n",
      "17          02.0mL Cryovial           02 ML CRYOVIAL  \n",
      "18            02mL Cryovial           02 ML CRYOVIAL  \n",
      "19             2ml cryovial           02 ML CRYOVIAL  \n",
      "20             2mL Cryovial           02 ML CRYOVIAL  \n",
      "21           02 ML CRYOVIAL                     None  \n",
      "22          2.5 ml cryovial         02.5 ML CRYOVIAL  \n",
      "23         02.5 ML CRYOVIAL                     None  \n",
      "24              03mL Tempus             03 ML TEMPUS  \n",
      "25              03mL Tempus             03 ML TEMPUS  \n",
      "26             03 ML TEMPUS                     None  \n",
      "27                 5ml EDTA            05 ML K3 EDTA  \n",
      "28            05 ML K3 EDTA                     None  \n",
      "29      15 ml cryovial tube           15 ML CRYOVIAL  \n",
      "30            15ML CRYOVIAL           15 ML CRYOVIAL  \n",
      "31           15 ML CRYOVIAL                     None  \n",
      "32            22 oz Commode  22 OZ COMMODE CONTAINER  \n",
      "33  22 OZ COMMODE CONTAINER                     None  \n",
      "34            35 ml Storage     35 ML STORAGE BOTTLE  \n",
      "35  35 ml Storage Container     35 ML STORAGE BOTTLE  \n",
      "36     35 ML STORAGE BOTTLE                     None  \n",
      "37           RNA DNA Shield           DNA RNA Shield  \n",
      "38           DNA RNA Shield                     None  \n"
     ]
    }
   ],
   "source": [
    "flag[\"New Tube Type\"]=flag[\"Tube Type\"].apply(cleaning)\n",
    "\n",
    "print(flag)"
   ]
  },
  {
   "attachments": {},
   "cell_type": "markdown",
   "metadata": {},
   "source": [
    "I still need to clean the spreadsheet. A data change request is submitted when there is new information. Therefore, NaNs have to be removed since they cannot be used for data change requests:"
   ]
  },
  {
   "cell_type": "code",
   "execution_count": 9,
   "metadata": {},
   "outputs": [],
   "source": [
    "flag=flag[flag[\"New Tube Type\"].notna()]"
   ]
  },
  {
   "attachments": {},
   "cell_type": "markdown",
   "metadata": {},
   "source": [
    "A Data Change Request Number is needed to submit a data change request. The value is the same for all columns. It is a string in the format {Study number} - MM-DD-YY - Initials. The code below accomplishes this task:"
   ]
  },
  {
   "cell_type": "code",
   "execution_count": 10,
   "metadata": {},
   "outputs": [],
   "source": [
    "flag[\"Data Change Request Number\"]=flag[\"Study Number\"]+\" - \"+date+\" - LS\""
   ]
  },
  {
   "attachments": {},
   "cell_type": "markdown",
   "metadata": {},
   "source": [
    "A \"change number\" is needed for each row. This just shows the first, second, third, ... , and nth data change to be made. An easy way to do this is to reset the index, then create a column that is the index + 1:"
   ]
  },
  {
   "cell_type": "code",
   "execution_count": 11,
   "metadata": {},
   "outputs": [],
   "source": [
    "flag.reset_index(inplace=True)\n",
    "flag[\"Index\"]=flag.index\n",
    "flag[\"Change Number\"]=flag[\"Index\"]+1"
   ]
  },
  {
   "attachments": {},
   "cell_type": "markdown",
   "metadata": {},
   "source": [
    "To submit the data change request, only the following columns from the dataframe are needed:\n",
    "- Data Change Request Number\n",
    "- Change Number\n",
    "- ISISS Registration Number\n",
    "- ITN Barcode\n",
    "- Tube Type\n",
    "- New Tube Type\n",
    "\n",
    "Thus, I will only select these columns from the dataframe. Lastly, a justification column is needed. I will assign a string value to a \"Justification\" column. "
   ]
  },
  {
   "cell_type": "code",
   "execution_count": 12,
   "metadata": {},
   "outputs": [],
   "source": [
    "# Select columns\n",
    "flag=flag[[\"Data Change Request Number\",\"Change Number\",\"ISISS Registration Number\",\"ITN Barcode\",\"Tube Type\",\"New Tube Type\"]]\n",
    "\n",
    "# Create the justification column\n",
    "flag[\"Justification\"]='''reconciling data entry inconsistencies'''"
   ]
  },
  {
   "attachments": {},
   "cell_type": "markdown",
   "metadata": {},
   "source": [
    "Export the dataframe as an Excel spreadsheet. This will be emailed to a group that handles data changes:"
   ]
  },
  {
   "cell_type": "code",
   "execution_count": 13,
   "metadata": {},
   "outputs": [],
   "source": [
    "flag.to_excel(\"Data Change Request Demo.xlsx\",index=False)"
   ]
  }
 ],
 "metadata": {
  "kernelspec": {
   "display_name": "Python 3",
   "language": "python",
   "name": "python3"
  },
  "language_info": {
   "codemirror_mode": {
    "name": "ipython",
    "version": 3
   },
   "file_extension": ".py",
   "mimetype": "text/x-python",
   "name": "python",
   "nbconvert_exporter": "python",
   "pygments_lexer": "ipython3",
   "version": "3.11.2"
  },
  "orig_nbformat": 4
 },
 "nbformat": 4,
 "nbformat_minor": 2
}
