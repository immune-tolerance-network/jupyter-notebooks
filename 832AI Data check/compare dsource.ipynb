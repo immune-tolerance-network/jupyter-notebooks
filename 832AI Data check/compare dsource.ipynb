{
 "cells": [
  {
   "attachments": {},
   "cell_type": "markdown",
   "metadata": {},
   "source": [
    "# Confirming Which Samples are in a Sample Tracking System, Participant Tracker, or a Biobank\n",
    "This script checks whether samples in one data source are present in the other data sources. This script accesses a sample tracking system through an SQL connection, and reads two Excel spreadsheets. Each sheet has at least the following columns:\n",
    "- Participant\n",
    "- Visit Number\n",
    "- Visit Date\n",
    "\n",
    "The data for the purposes of demonstrating what the script does is included."
   ]
  },
  {
   "attachments": {},
   "cell_type": "markdown",
   "metadata": {},
   "source": [
    "Start by importing packages. Pandas will be used to read the spreadsheets, data from SQL queries, and create/manage dataframes that will be used to export a spreadsheet with the results. pyodbc will be used to access the SQL server. os will be used to find the files in the current directory (the spreadsheets from the participant tracker and biobank). calendar will be used to get a list of month names and abbreviations. It will also be used to limit the rows that result from the SQL query. This is because the spreadsheets are sent to us monthly, while the sample tracking system is essentially a real-time record. Without limiting the SQL query to the dates that the spreadsheets reflect, there would be many samples that are in the sample tracking system, but are not in the participant tracker or the biobank, simply due to the sources not being synced:"
   ]
  },
  {
   "cell_type": "code",
   "execution_count": 1,
   "metadata": {},
   "outputs": [],
   "source": [
    "# Import Packages\n",
    "import pandas as pd\n",
    "import pyodbc\n",
    "import os\n",
    "import calendar"
   ]
  },
  {
   "cell_type": "markdown",
   "metadata": {},
   "source": [
    "We are comparing three data sources: our Specimen Tracking System, a BioBank, and an enrollment tracker. We can access the first source directly (i.e., we can pull information from it whenever we want). On the other hand, we are sent spreadsheets from the last two data sources at regular intervals. Once I receive these files, I place them in the same working directory as this script. However, I do not want to copy-paste the filename every time this script is run. The following finds the spreadsheet filenames by finding the strings \"BCCHB\" (the biobank) or \"VisitEnrollmentData\" in the filename:"
   ]
  },
  {
   "cell_type": "code",
   "execution_count": 2,
   "metadata": {},
   "outputs": [
    {
     "name": "stdout",
     "output_type": "stream",
     "text": [
      "compare dsource.ipynb\n",
      "Copy of BCCHB demo Samples - 31May2023.xlsx\n",
      "demo_VisitEnrollmentData_May 31_2023.xlsx\n",
      "result.xlsx\n",
      "result2.xlsx\n",
      "resultTEST.xlsx\n",
      "STS.xlsx\n",
      "task1 copy.ipynb\n",
      "task1 pbi.ipynb\n",
      "task1.ipynb\n"
     ]
    }
   ],
   "source": [
    "# Filenames for the biobank and visit enrollment sheets\n",
    "bbFN=\"\"\n",
    "veFN=\"\"\n",
    "fileList=os.listdir(os.getcwd()) # Get filenames for all files in the current working directory\n",
    "for k in fileList: # For each file in the list...\n",
    "    if \"biobank\" in k: # If this is in the filename...\n",
    "        bbFN=k # This is the biobank sheet filename\n",
    "    elif \"VisitEnrollmentData\" in k: # If this is in the filename...\n",
    "        veFN=k # This is the visit enrollment filename\n",
    "    else:\n",
    "        continue"
   ]
  },
  {
   "cell_type": "markdown",
   "metadata": {},
   "source": [
    "Then, pandas reads the spreadsheets:"
   ]
  },
  {
   "cell_type": "code",
   "execution_count": 3,
   "metadata": {},
   "outputs": [],
   "source": [
    "# Read the sheets\n",
    "biobank=pd.read_excel(bbFN)\n",
    "visitenroll=pd.read_excel(veFN)"
   ]
  },
  {
   "cell_type": "code",
   "execution_count": 18,
   "metadata": {},
   "outputs": [
    {
     "name": "stdout",
     "output_type": "stream",
     "text": [
      "      PPID Event Label\n",
      "0    Alpha          V1\n",
      "1    Alpha          V2\n",
      "2    Bravo          V2\n",
      "3  Charlie          V4\n"
     ]
    }
   ],
   "source": [
    "print(biobank)"
   ]
  },
  {
   "cell_type": "code",
   "execution_count": 19,
   "metadata": {},
   "outputs": [
    {
     "name": "stdout",
     "output_type": "stream",
     "text": [
      "  ParticipantID  Visit N\n",
      "0         Alpha        1\n",
      "1         Alpha        2\n",
      "2         Bravo        1\n",
      "3       Charlie        3\n"
     ]
    }
   ],
   "source": [
    "print(visitenroll)"
   ]
  },
  {
   "cell_type": "markdown",
   "metadata": {},
   "source": [
    "Since the spreadsheets are sent to us monthly, I need to know the latest date the sheets have records for. These dates are in the filename. I only need to get the date from one filename since they are sent to us at the same time. To do so, I will use the filename from the visit enrollment tracker. The tracker's filename comes in the following format:\n",
    "\n",
    "ITNXXXYY_VisitEnrollmentData_MMM DD_YYYY.xlsx\n",
    "\n",
    "Where X is the study number, Y is the study type, and M,D, and Y are month, day, and year, respectively. \n",
    "\n",
    "To get this information, I remove characters that are not related to the date, then I convert the text representation of the date into an integer:"
   ]
  },
  {
   "cell_type": "code",
   "execution_count": 16,
   "metadata": {},
   "outputs": [
    {
     "name": "stdout",
     "output_type": "stream",
     "text": [
      "['5', '31', '2023']\n"
     ]
    }
   ],
   "source": [
    "# Extact date from the filename\n",
    "filename=veFN\n",
    "filename=filename.replace(\"demo_VisitEnrollmentData_\",\"\") # Remove this part\n",
    "filename=filename.replace(\".xlsx\",\"\") # Remove this part\n",
    "filename=filename.replace(\"_\",\" \") # Turn every underscore into a space\n",
    "dateparts=filename.split() # Split the string into space\n",
    "if len(dateparts[0])>3: # Abbreviations are 3 chars long, so if its longer, then we need a dictionary with the full month names\n",
    "    mo2num={month: index for index, month in enumerate(calendar.month_name) if month}\n",
    "else: # If the abbreviation is less than or equal to 3 chars long, then we use the abbreviations\n",
    "    mo2num={month: index for index, month in enumerate(calendar.month_abbr) if month}\n",
    "dateparts[0]=str(mo2num[dateparts[0]]) # Turn the month name into an integer representation\n",
    "\n",
    "print(dateparts)"
   ]
  },
  {
   "cell_type": "markdown",
   "metadata": {},
   "source": [
    "I will start with the visit enrollment sheet: I start by only selecting the relevant columns. Then, I create a column that combines the participant ID and visit number that we will use as a primary key. Lastly, a column is created that has the source of the data (e.g., visit enrollment sheet):"
   ]
  },
  {
   "cell_type": "code",
   "execution_count": 17,
   "metadata": {},
   "outputs": [
    {
     "name": "stdout",
     "output_type": "stream",
     "text": [
      "  ParticipantID Visit N    PartVis            Source\n",
      "0         Alpha       1    Alpha-1  Visit Enrollment\n",
      "1         Alpha       2    Alpha-2  Visit Enrollment\n",
      "2         Bravo       1    Bravo-1  Visit Enrollment\n",
      "3       Charlie       3  Charlie-3  Visit Enrollment\n"
     ]
    }
   ],
   "source": [
    "### VISIT ENROLLMENT ###\n",
    "# Keep only the relevant columns\n",
    "visitenroll=visitenroll[[\"ParticipantID\",\"Visit N\"]]\n",
    "\n",
    "# Make a copy\n",
    "vepv=visitenroll.copy()\n",
    "\n",
    "# Turn the participant and Visit N columns into the string datatype\n",
    "vepv[\"ParticipantID\"]=vepv[\"ParticipantID\"].astype(str)\n",
    "vepv[\"Visit N\"]=vepv[\"Visit N\"].astype(str)\n",
    "\n",
    "# Create a column that combines the participant ID with the visit number\n",
    "vepv[\"PartVis\"]=vepv[\"ParticipantID\"]+\"-\"+vepv[\"Visit N\"]\n",
    "\n",
    "# Make a column that shows the source of the rows\n",
    "vepv[\"Source\"]=\"Visit Enrollment\"\n",
    "\n",
    "print(vepv)"
   ]
  },
  {
   "cell_type": "markdown",
   "metadata": {},
   "source": [
    "I do the same for the biobank file:"
   ]
  },
  {
   "cell_type": "code",
   "execution_count": 20,
   "metadata": {},
   "outputs": [
    {
     "name": "stdout",
     "output_type": "stream",
     "text": [
      "      PPID Event Label visit    PartVis   Source\n",
      "0    Alpha          V1     1    Alpha-1  Biobank\n",
      "1    Alpha          V2     2    Alpha-2  Biobank\n",
      "2    Bravo          V2     2    Bravo-2  Biobank\n",
      "3  Charlie          V4     4  Charlie-4  Biobank\n"
     ]
    }
   ],
   "source": [
    "### BIOBANK ###\n",
    "# Keep only the relevant columns\n",
    "biobank=biobank[[\"PPID\",\"Event Label\"]]\n",
    "\n",
    "# Make a copy\n",
    "bbpv=biobank.copy()\n",
    "\n",
    "# Create a function that give us the visit number from the format V##\n",
    "def visnum(eventlabel):\n",
    "    return eventlabel[1:]\n",
    "\n",
    "# Apply it to the biobank sheet so that we get the integer representation of the visit\n",
    "bbpv[\"visit\"]=bbpv.apply(lambda x: visnum(x[\"Event Label\"]),axis=1)\n",
    "\n",
    "# Turn the participant and visit columns into the string datatypes\n",
    "bbpv[\"PPID\"]=bbpv[\"PPID\"].astype(str)\n",
    "bbpv[\"visit\"]=bbpv[\"visit\"].astype(str)\n",
    "\n",
    "# Create a column that combines the participant ID with the visit number\n",
    "bbpv[\"PartVis\"]=bbpv[\"PPID\"]+\"-\"+bbpv[\"visit\"]\n",
    "\n",
    "# Make a column that shows the source of the rows\n",
    "bbpv[\"Source\"]=\"Biobank\"\n",
    "\n",
    "print(bbpv)"
   ]
  },
  {
   "cell_type": "markdown",
   "metadata": {},
   "source": [
    "For data from our specimen tracking system, I connect to it via an SQL connection. Then, by using the date I extracted from the filename, I filter out visits that happened after the most recent date the other data sources have data for (Note: To maintain privacy, I have ommitted and/or edited the connection string and query):"
   ]
  },
  {
   "cell_type": "code",
   "execution_count": 21,
   "metadata": {},
   "outputs": [
    {
     "name": "stdout",
     "output_type": "stream",
     "text": [
      "  Participant visitnum    PartVis\n",
      "0       Alpha        1    Alpha-1\n",
      "1       Bravo        1    Bravo-1\n",
      "2       Bravo        2    Bravo-2\n",
      "3     Charlie        5  Charlie-5\n"
     ]
    }
   ],
   "source": [
    "### Sample Tracking System ###\n",
    "# Create a connection to SQL Server\n",
    "# cnxn = pyodbc.connect(YOUR CONNECTION STRING)\n",
    "\n",
    "# Make a query that gets all of the samples from visits for the study where the collection date is before the date on the sheets\n",
    "# query=\"SELECT Participant,visitnum FROM TABLENAME WHERE studynum=YOUR STUDY AND CollectionDate <= '{}-{}-{}'\".format(dateparts[2],dateparts[0],dateparts[1])\n",
    "\n",
    "# Make a dataframe using the query and connection\n",
    "# lv=pd.read_sql(query,cnxn)\n",
    "\n",
    "# Close the connection\n",
    "# cnxn.close()\n",
    "\n",
    "# Read the Excel sheet\n",
    "lv=pd.read_excel(\"STS.xlsx\")\n",
    "\n",
    "# Convert visitnum's dtype into str\n",
    "lv[\"visitnum\"]=lv[\"visitnum\"].astype(str)\n",
    "\n",
    "# Create a column that combines the participant ID with the visit number\n",
    "lv[\"PartVis\"]=lv[\"Participant\"]+\"-\"+lv[\"visitnum\"]\n",
    "\n",
    "print(lv)"
   ]
  },
  {
   "cell_type": "markdown",
   "metadata": {},
   "source": [
    "To start checking, I start by creating a list of unique participants in each data source. Then, I combine all of them into one list and remove duplicates by using the .set() method:"
   ]
  },
  {
   "cell_type": "code",
   "execution_count": 22,
   "metadata": {},
   "outputs": [
    {
     "name": "stdout",
     "output_type": "stream",
     "text": [
      "['Charlie-5', 'Bravo-1', 'Bravo-2', 'Alpha-1', 'Charlie-4', 'Charlie-3', 'Alpha-2']\n"
     ]
    }
   ],
   "source": [
    "### CROSS CHECK ###\n",
    "# Make a list of all of the unique participant-visit values for each source\n",
    "vepvList=list(vepv[\"PartVis\"].unique())\n",
    "bbpvList=list(bbpv[\"PartVis\"].unique())\n",
    "lvList=list(lv[\"PartVis\"].unique())\n",
    "\n",
    "# Combine all of the lists of unique participant-visit values for each source\n",
    "allPV=vepvList+bbpvList+lvList\n",
    "\n",
    "# Remove redundant values from the list\n",
    "allPV=list(set(allPV))\n",
    "\n",
    "print(allPV)"
   ]
  },
  {
   "cell_type": "markdown",
   "metadata": {},
   "source": [
    "The results will be outputted as a spreadsheet. To start, I will create an empty dataframe:"
   ]
  },
  {
   "cell_type": "code",
   "execution_count": 23,
   "metadata": {},
   "outputs": [
    {
     "name": "stdout",
     "output_type": "stream",
     "text": [
      "Empty DataFrame\n",
      "Columns: [MSSG, Missing in, Participant, Visit]\n",
      "Index: []\n"
     ]
    }
   ],
   "source": [
    "# Create a dataframe that we will use to output a spreadsheet later. This sheet will contain the participant-visit values that was not found in one or two of the data sources\n",
    "mssgDF=pd.DataFrame(columns=['MSSG','Missing in','Participant','Visit'])\n",
    "\n",
    "print(mssgDF)"
   ]
  },
  {
   "cell_type": "markdown",
   "metadata": {},
   "source": [
    "To compare the data sources, I loop through the list of unique participant-visit combos found in all data sources. Then, for each element, I check to make sure if it is in each data source. If it is not in a data source, I append a row to the output dataframe that has a message describing which participant-visit combo is missing from which data source, data source, participant, and visit:"
   ]
  },
  {
   "cell_type": "code",
   "execution_count": 24,
   "metadata": {},
   "outputs": [
    {
     "name": "stdout",
     "output_type": "stream",
     "text": [
      "                                                MSSG        Missing in  \\\n",
      "0  Participant-Visit Charlie-5 was not found in t...  Visit Enrollment   \n",
      "1  Participant-Visit Charlie-5 was not found in t...           BioBank   \n",
      "2  Participant-Visit Bravo-1 was not found in the...           BioBank   \n",
      "3  Participant-Visit Bravo-2 was not found in the...  Visit Enrollment   \n",
      "4  Participant-Visit Charlie-4 was not found in t...  Visit Enrollment   \n",
      "5   Participant-Visit Charlie-4 was not found in LV.        LabVantage   \n",
      "6  Participant-Visit Charlie-3 was not found in t...           BioBank   \n",
      "7   Participant-Visit Charlie-3 was not found in LV.        LabVantage   \n",
      "8     Participant-Visit Alpha-2 was not found in LV.        LabVantage   \n",
      "\n",
      "  Participant Visit  \n",
      "0     Charlie     5  \n",
      "1     Charlie     5  \n",
      "2       Bravo     1  \n",
      "3       Bravo     2  \n",
      "4     Charlie     4  \n",
      "5     Charlie     4  \n",
      "6     Charlie     3  \n",
      "7     Charlie     3  \n",
      "8       Alpha     2  \n"
     ]
    }
   ],
   "source": [
    "for i in allPV: # For each value in the list of unique participant-visit values\n",
    "    if i not in vepvList: # If its not in the enrollment-visit sheet...\n",
    "        # Create a string that has a message saying that the particular participant-visit value was not found in the data source\n",
    "        mssg=\"Participant-Visit {} was not found in the Visit Enrollment sheet.\".format(str(i)) \n",
    "        # Split the participant-visit value into their components\n",
    "        j=i.split('-')\n",
    "        # Append it to the output dataframe\n",
    "        mssgDF.loc[len(mssgDF)]=[mssg,\"Visit Enrollment\",j[0],j[1]]\n",
    "    if i not in bbpvList: # If its not in the biobank sheet...\n",
    "        # Create a string that has a message saying that the particular participant-visit value was not found in the data source\n",
    "        mssg=\"Participant-Visit {} was not found in the BioBank sheet.\".format(str(i))\n",
    "        # Split the participant-visit value into their components\n",
    "        j=i.split('-')\n",
    "        # Append it to the output dataframe\n",
    "        mssgDF.loc[len(mssgDF)]=[mssg,\"BioBank\",j[0],j[1]]\n",
    "    if i not in lvList: # If its not in the LabVantage...\n",
    "        # Create a string that has a message saying that the particular participant-visit value was not found in the data source\n",
    "        mssg=\"Participant-Visit {} was not found in LV.\".format(str(i))\n",
    "        # Split the participant-visit value into their components\n",
    "        j=i.split('-')\n",
    "        # Append it to the output dataframe\n",
    "        mssgDF.loc[len(mssgDF)]=[mssg,\"LabVantage\",j[0],j[1]]\n",
    "\n",
    "print(mssgDF)"
   ]
  },
  {
   "cell_type": "markdown",
   "metadata": {},
   "source": [
    "Output the result as an Excel spreadsheet:"
   ]
  },
  {
   "cell_type": "code",
   "execution_count": 15,
   "metadata": {},
   "outputs": [],
   "source": [
    "# Output the dataframe as an xlsx file\n",
    "mssgDF.to_excel('resultDemo.xlsx',index=False)"
   ]
  }
 ],
 "metadata": {
  "kernelspec": {
   "display_name": "Python 3",
   "language": "python",
   "name": "python3"
  },
  "language_info": {
   "codemirror_mode": {
    "name": "ipython",
    "version": 3
   },
   "file_extension": ".py",
   "mimetype": "text/x-python",
   "name": "python",
   "nbconvert_exporter": "python",
   "pygments_lexer": "ipython3",
   "version": "3.11.2"
  },
  "orig_nbformat": 4
 },
 "nbformat": 4,
 "nbformat_minor": 2
}
